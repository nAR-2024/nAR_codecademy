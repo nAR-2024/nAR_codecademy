{
 "cells": [
  {
   "cell_type": "code",
   "execution_count": 15,
   "id": "bf462024-2c40-40c8-a065-126c65ddee62",
   "metadata": {},
   "outputs": [
    {
     "ename": "SyntaxError",
     "evalue": "'break' outside loop (3259489571.py, line 65)",
     "output_type": "error",
     "traceback": [
      "\u001b[0;36m  Cell \u001b[0;32mIn[15], line 65\u001b[0;36m\u001b[0m\n\u001b[0;31m    break # exits the loop and ends the program\u001b[0m\n\u001b[0m    ^\u001b[0m\n\u001b[0;31mSyntaxError\u001b[0m\u001b[0;31m:\u001b[0m 'break' outside loop\n"
     ]
    }
   ],
   "source": [
    "\n",
    "#function to encrypt the plaintext using a vigenere cipher\n",
    "\n",
    "def vigenere_encrypt(plaintext, keyword):\n",
    "    keyword = keyword.upper()\n",
    "    plaintext = plaintext.upper()\n",
    "    cipher_text = []\n",
    "\n",
    "    keyword_index = 0\n",
    "    for letter in plaintext:\n",
    "        if letter.isalpha():\n",
    "            shift = ord(keyword[keyword_index]) - ord('A')\n",
    "            encrypted_letter = chr(((ord(letter) - ord('A') + shift) % 26) + ord('A'))\n",
    "            cipher_text.append(encrypted_letter)\n",
    "\n",
    "            keyword_index = (keyword_index + 1) % len(keyword)\n",
    "        else:\n",
    "            cipher_text.append(letter)\n",
    "    return''.join(cipher_text)\n",
    "\n",
    "# Functin to decrypt the ciphertext using the Vigenere cipher\n",
    "\n",
    "def vigenere_decrypt(ciphertext, keyword):\n",
    "    keyword = keyword.upper()\n",
    "    ciphertext = ciphertext.upper()\n",
    "    decrypted_text = []\n",
    "\n",
    "    keyword_index = 0\n",
    "    for letter in ciphertext:\n",
    "        if letter.isalpha():\n",
    "            shift = ord(keyword[keyword_index]) - ord('A')\n",
    "            decrypted_letter = chr(((ord(letter) - ord('A') - shift + 26) % 26) +ord('A'))\n",
    "            decrypted_text.append(decrypted_letter)\n",
    "\n",
    "            keyword_index = (keyword_index + 1) % len(keyword)\n",
    "        else:\n",
    "            decrypted_text.append(letter)\n",
    "    return ''.join(decrypted_text)\n",
    "\n",
    "# Main program to choose between encrypting and decrypting, and loops back around to allow a different selection\n",
    "\n",
    "def main():\n",
    "    while True:  #Allows for multiple sessions, instead of just one path\n",
    "\n",
    "        while True:\n",
    "            choice = input(\"Would you like to (E)ncrypt or (D)ecrypt your message? \").upper()\n",
    "            if choice not in ['E', 'D']:\n",
    "                break # breaks out until a valid choice is made, terrible to figure out\n",
    "            else: \n",
    "                print(\"invalid choice.  Please enter 'E' for encrypt or 'D' for decrypt.\")\n",
    "        text = input(\"Enter the text: \")\n",
    "        keyword = input(\"Enter the keyword: \")\n",
    "\n",
    "        if choice == 'E':\n",
    "            encrypted_text = vigenere_encrypt(text, keyword)\n",
    "            print(f\"Encrypted text: {encrypted_text}\")\n",
    "        elif choice == 'D':\n",
    "            decrypted_text = vigenere_decrypt(text, keyword)\n",
    "            print(f\"Decrypted text: {decrypted_text}\")\n",
    "\n",
    "        # figure a way to ask the user for another session\n",
    "    another_session = input(\"Do you want to start a new session? (Y?N): \").upper()\n",
    "    if another_session != 'Y':\n",
    "            print(\"Till the next time! \")\n",
    "        \n",
    "    break # exits the loop and ends the program\n",
    "    \n",
    "       \n",
    "\n",
    "# Runs the Program\n",
    "main ()\n",
    "\n",
    "\n"
   ]
  },
  {
   "cell_type": "code",
   "execution_count": null,
   "id": "32554672-3604-462f-b1f2-ea9b5d3fe4a7",
   "metadata": {},
   "outputs": [],
   "source": []
  },
  {
   "cell_type": "markdown",
   "id": "44adfa8f-7258-4b89-b411-3decb7ba2fdd",
   "metadata": {},
   "source": [
    "# Assistant\n",
    "The error occurs because the `break` statement is placed outside of any loop. In Python, `break` can only be used to exit from a loop, and since the `break` statement is not inside a loop in your code, it raises a `SyntaxError`.\n",
    "\n",
    "To fix this, you need to ensure that the `break` statement is correctly placed within the loop that it is intended to exit. In this case, the `break` should be inside the `while True` loop that allows for multiple sessions.\n",
    "\n",
    "Would you like me to provide the corrected code?"
   ]
  },
  {
   "cell_type": "markdown",
   "id": "89e266f1-74ac-41bc-9844-ddf26b23a4d1",
   "metadata": {},
   "source": [
    "# User\n",
    "yes"
   ]
  },
  {
   "cell_type": "code",
   "execution_count": null,
   "id": "89c6d8c7-40b9-4525-a899-a56fdbb44514",
   "metadata": {},
   "outputs": [],
   "source": [
    "# Assistant\n",
    "def vigenere_decrypt(ciphertext, keyword):\n",
    "    keyword = keyword.upper()\n",
    "    ciphertext = ciphertext.upper()\n",
    "    decrypted_text = []\n",
    "\n",
    "    keyword_index = 0\n",
    "    for letter in ciphertext:\n",
    "        if letter.isalpha():\n",
    "            shift = ord(keyword[keyword_index]) - ord('A')\n",
    "            decrypted_letter = chr(((ord(letter) - ord('A') - shift + 26) % 26) + ord('A'))\n",
    "            decrypted_text.append(decrypted_letter)\n",
    "\n",
    "            keyword_index = (keyword_index + 1) % len(keyword)\n",
    "        else:\n",
    "            decrypted_text.append(letter)\n",
    "    return ''.join(decrypted_text)\n",
    "\n",
    "def main():\n",
    "    while True:  # Allows for multiple sessions\n",
    "        choice = input(\"Would you like to (E)ncrypt or (D)ecrypt your message? \").upper()\n",
    "        while choice not in ['E', 'D']:\n",
    "            print(\"Invalid choice. Please enter 'E' for encrypt or 'D' for decrypt.\")\n",
    "            choice = input(\"Would you like to (E)ncrypt or (D)ecrypt your message? \").upper()\n",
    "\n",
    "        text = input(\"Enter the text: \")\n",
    "        keyword = input(\"Enter the keyword: \")\n",
    "\n",
    "        if choice == 'E':\n",
    "            encrypted_text = vigenere_encrypt(text, keyword)  # Assuming vigenere_encrypt is defined\n",
    "            print(f\"Encrypted text: {encrypted_text}\")\n",
    "        elif choice == 'D':\n",
    "            decrypted_text = vigenere_decrypt(text, keyword)\n",
    "            print(f\"Decrypted text: {decrypted_text}\")\n",
    "\n",
    "        another_session = input(\"Do you want to start a new session? (Y/N): \").upper()\n",
    "        if another_session != 'Y':\n",
    "            print(\"Till the next time!\")\n",
    "            break  # Correctly placed to exit the loop and end the program\n",
    "\n",
    "# Runs the Program\n",
    "main()"
   ]
  },
  {
   "cell_type": "markdown",
   "id": "893f91f4-0770-491d-b089-c4e23f75c8f9",
   "metadata": {},
   "source": [
    "\n",
    "### Changes Made:\n",
    "1. Moved the `break` statement inside the `if another_session != 'Y':` block to ensure it correctly exits the loop when the user does not want to start a new session.\n",
    "2. Fixed the indentation and structure of the input validation loop for clarity. \n",
    "\n",
    "Make sure that the `vigenere_encrypt` function is defined elsewhere in your code, as it is referenced but not included in the snippet you provided."
   ]
  },
  {
   "cell_type": "code",
   "execution_count": null,
   "id": "8d9cfbd6-5c8a-45f2-8c2b-197958599e3d",
   "metadata": {},
   "outputs": [],
   "source": []
  }
 ],
 "metadata": {
  "kernelspec": {
   "display_name": "Python 3 (ipykernel)",
   "language": "python",
   "name": "python3"
  },
  "language_info": {
   "codemirror_mode": {
    "name": "ipython",
    "version": 3
   },
   "file_extension": ".py",
   "mimetype": "text/x-python",
   "name": "python",
   "nbconvert_exporter": "python",
   "pygments_lexer": "ipython3",
   "version": "3.12.4"
  }
 },
 "nbformat": 4,
 "nbformat_minor": 5
}
